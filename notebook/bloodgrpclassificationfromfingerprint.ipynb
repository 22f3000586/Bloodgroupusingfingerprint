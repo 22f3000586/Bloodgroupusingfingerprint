{
 "cells": [
  {
   "cell_type": "code",
   "execution_count": 6,
   "id": "5925c8c5",
   "metadata": {},
   "outputs": [],
   "source": [
    "import tensorflow as tf\n",
    "from tensorflow.keras.preprocessing.image import ImageDataGenerator\n",
    "from collections import Counter\n",
    "import numpy as np\n",
    "import os\n",
    "import shutil\n",
    "from sklearn.utils import resample\n",
    "from tensorflow.keras.preprocessing.image import load_img, img_to_array, save_img\n",
    "from tensorflow.keras.utils import image_dataset_from_directory\n",
    "from sklearn.metrics import classification_report, confusion_matrix\n",
    "import matplotlib.pyplot as plt\n",
    "import seaborn as sns\n",
    "import numpy as np"
   ]
  },
  {
   "cell_type": "code",
   "execution_count": 7,
   "id": "e6072471",
   "metadata": {},
   "outputs": [],
   "source": [
    "dataset_path = r\"D:\\BCA\\AI ML INTERNSHIP INFOSYS\\MINI-PROJECT-TRY\\dataset\\dataset_blood_group\""
   ]
  },
  {
   "cell_type": "code",
   "execution_count": 8,
   "id": "8258d19a",
   "metadata": {},
   "outputs": [],
   "source": [
    "BATCH_SIZE = 32"
   ]
  },
  {
   "cell_type": "code",
   "execution_count": 9,
   "id": "03d7c2c6",
   "metadata": {},
   "outputs": [
    {
     "name": "stdout",
     "output_type": "stream",
     "text": [
      "Found 6000 files belonging to 8 classes.\n"
     ]
    }
   ],
   "source": [
    "#Step 1 : Load dataset\n",
    "dataset = image_dataset_from_directory(\n",
    "    dataset_path,\n",
    "    labels=\"inferred\",\n",
    "    label_mode=\"int\",\n",
    "    image_size=(64, 64),\n",
    "    batch_size=BATCH_SIZE,\n",
    "    shuffle=True\n",
    ")"
   ]
  },
  {
   "cell_type": "code",
   "execution_count": 10,
   "id": "852786d3",
   "metadata": {},
   "outputs": [
    {
     "name": "stdout",
     "output_type": "stream",
     "text": [
      "Class Distribution:\n",
      "O+: 852\n",
      "AB-: 761\n",
      "AB+: 708\n",
      "A+: 565\n",
      "B+: 652\n",
      "A-: 1009\n",
      "B-: 741\n",
      "O-: 712\n"
     ]
    }
   ],
   "source": [
    "#Step 2: Check class distribution\n",
    "class_names = dataset.class_names\n",
    "class_counts = Counter()\n",
    "for _, labels in dataset.unbatch():\n",
    "    class_counts[int(labels.numpy())] += 1\n",
    "\n",
    "print(\"Class Distribution:\")\n",
    "for i, count in class_counts.items():\n",
    "    print(f\"{class_names[i]}: {count}\")"
   ]
  },
  {
   "cell_type": "code",
   "execution_count": 11,
   "id": "4e168997",
   "metadata": {},
   "outputs": [],
   "source": [
    "max_count = max(class_counts.values())"
   ]
  },
  {
   "cell_type": "code",
   "execution_count": 12,
   "id": "213d2543",
   "metadata": {},
   "outputs": [],
   "source": [
    "#Function to oversample a class\n",
    "def oversample_class(class_id, count, max_count):\n",
    "    unbatched_dataset = dataset.unbatch()\n",
    "    class_dataset = unbatched_dataset.filter(lambda img, lbl: tf.equal(lbl, class_id))\n",
    "    repeat_factor = max_count // count + (max_count % count > 0)\n",
    "    return class_dataset.repeat(repeat_factor).take(max_count)"
   ]
  },
  {
   "cell_type": "code",
   "execution_count": 13,
   "id": "ca093173",
   "metadata": {},
   "outputs": [],
   "source": [
    "balanced_datasets = []\n",
    "for class_id, count in class_counts.items():\n",
    "    balanced_datasets.append(oversample_class(class_id, count, max_count))\n",
    "balanced_dataset = tf.data.Dataset.sample_from_datasets(balanced_datasets)\n",
    "balanced_class_counts = Counter([int(lbl.numpy()) for _, lbl in balanced_dataset])\n",
    "balanced_dataset = balanced_dataset.batch(BATCH_SIZE,drop_remainder=True)"
   ]
  },
  {
   "cell_type": "code",
   "execution_count": 14,
   "id": "b57a4d22",
   "metadata": {},
   "outputs": [
    {
     "name": "stdout",
     "output_type": "stream",
     "text": [
      "(32, 64, 64, 3)\n",
      "(32, 64, 64, 3)\n",
      "(32, 64, 64, 3)\n",
      "(32, 64, 64, 3)\n",
      "(32, 64, 64, 3)\n",
      "(32, 64, 64, 3)\n",
      "(32, 64, 64, 3)\n",
      "(32, 64, 64, 3)\n",
      "(32, 64, 64, 3)\n",
      "(32, 64, 64, 3)\n"
     ]
    }
   ],
   "source": [
    "for smaple in balanced_dataset.take(10):\n",
    "    print(smaple[0].shape)"
   ]
  },
  {
   "cell_type": "code",
   "execution_count": 15,
   "id": "fe889cfa",
   "metadata": {},
   "outputs": [
    {
     "name": "stdout",
     "output_type": "stream",
     "text": [
      "Total dataset size: 8064\n"
     ]
    }
   ],
   "source": [
    "balanced_dataset_unbatched = balanced_dataset.unbatch()\n",
    "dataset_size = sum(1 for _ in balanced_dataset_unbatched)\n",
    "print(f\"Total dataset size: {dataset_size}\")"
   ]
  },
  {
   "cell_type": "code",
   "execution_count": 16,
   "id": "12611abe",
   "metadata": {},
   "outputs": [
    {
     "name": "stdout",
     "output_type": "stream",
     "text": [
      "Training dataset size: 5632\n",
      "Validation dataset size: 1600\n",
      "Testing dataset size: 800\n"
     ]
    }
   ],
   "source": [
    "balanced_dataset_unbatched = balanced_dataset.unbatch()\n",
    "\n",
    "\n",
    "train_ratio = 0.7\n",
    "val_ratio = 0.2\n",
    "train_size = int(train_ratio * dataset_size)\n",
    "val_size = int(val_ratio * dataset_size)\n",
    "\n",
    "train_dataset = balanced_dataset_unbatched.take(train_size)\n",
    "val_test_dataset = balanced_dataset_unbatched.skip(train_size)\n",
    "val_dataset = val_test_dataset.take(val_size)\n",
    "test_dataset = val_test_dataset.skip(val_size)\n",
    "\n",
    "\n",
    "train_dataset = train_dataset.batch(BATCH_SIZE, drop_remainder=True)\n",
    "val_dataset = val_dataset.batch(BATCH_SIZE, drop_remainder=True)\n",
    "test_dataset = test_dataset.batch(BATCH_SIZE, drop_remainder=True)\n",
    "\n",
    "train_batch_count = sum(1 for _ in train_dataset)\n",
    "val_batch_count = sum(1 for _ in val_dataset)\n",
    "test_batch_count = sum(1 for _ in test_dataset)\n",
    "\n",
    "print(f\"Training dataset size: {train_batch_count * BATCH_SIZE}\")\n",
    "print(f\"Validation dataset size: {val_batch_count * BATCH_SIZE}\")\n",
    "print(f\"Testing dataset size: {test_batch_count * BATCH_SIZE}\")"
   ]
  },
  {
   "cell_type": "code",
   "execution_count": 17,
   "id": "1a038b58",
   "metadata": {},
   "outputs": [
    {
     "name": "stderr",
     "output_type": "stream",
     "text": [
      "d:\\BCA\\AI ML INTERNSHIP INFOSYS\\MINI-PROJECT-TRY\\.venv\\Lib\\site-packages\\keras\\src\\layers\\convolutional\\base_conv.py:113: UserWarning: Do not pass an `input_shape`/`input_dim` argument to a layer. When using Sequential models, prefer using an `Input(shape)` object as the first layer in the model instead.\n",
      "  super().__init__(activity_regularizer=activity_regularizer, **kwargs)\n"
     ]
    }
   ],
   "source": [
    "def create_high_accuracy_model():\n",
    "    model = tf.keras.models.Sequential([\n",
    "        tf.keras.layers.Conv2D(32, (3, 3), activation='relu', padding='same', input_shape=(64, 64, 3)),\n",
    "        tf.keras.layers.MaxPooling2D(2, 2),\n",
    "        tf.keras.layers.Dropout(0.3),\n",
    "\n",
    "        tf.keras.layers.Conv2D(64, (3, 3), activation='relu', padding='same', input_shape=(64, 64, 3)),\n",
    "        tf.keras.layers.MaxPooling2D(2, 2),\n",
    "        tf.keras.layers.Dropout(0.4),\n",
    "\n",
    "        tf.keras.layers.Conv2D(128, (3, 3), activation='relu', padding='same', input_shape=(64, 64, 3)),\n",
    "        tf.keras.layers.MaxPooling2D(2, 2),\n",
    "        tf.keras.layers.Dropout(0.4),\n",
    "\n",
    "        tf.keras.layers.Conv2D(256, (3, 3), activation='relu', padding='same', input_shape=(64, 64, 3)),\n",
    "        tf.keras.layers.MaxPooling2D(2, 2),\n",
    "        tf.keras.layers.Dropout(0.4),\n",
    "        \n",
    "\n",
    "        tf.keras.layers.Conv2D(512, (3, 3), activation='relu', padding='same', input_shape=(64, 64, 3)),\n",
    "        tf.keras.layers.MaxPooling2D(2, 2),\n",
    "        tf.keras.layers.Dropout(0.4),\n",
    "\n",
    "        tf.keras.layers.Flatten(),\n",
    "        tf.keras.layers.Dense(1024, activation='relu'),\n",
    "        tf.keras.layers.Dropout(0.5),\n",
    "\n",
    "        tf.keras.layers.Dense(len(class_names), activation='softmax')\n",
    "    ])\n",
    "\n",
    "    model.compile(optimizer='adam',\n",
    "                  loss='sparse_categorical_crossentropy',\n",
    "                  metrics=['accuracy'])\n",
    "    return model\n",
    "\n",
    "high_acc_model = create_high_accuracy_model()"
   ]
  },
  {
   "cell_type": "code",
   "execution_count": 18,
   "id": "1eb90d9e",
   "metadata": {},
   "outputs": [],
   "source": [
    "from tensorflow.keras.callbacks import ReduceLROnPlateau, EarlyStopping\n",
    "\n",
    "reduce_lr = ReduceLROnPlateau(\n",
    "    monitor='val_loss',\n",
    "    factor=0.5,\n",
    "    patience=3,\n",
    "    verbose=1,\n",
    "    min_lr=1e-6\n",
    ")\n",
    "\n",
    "\n",
    "early_stop = EarlyStopping(\n",
    "    monitor='val_loss',\n",
    "    patience=5,\n",
    "    verbose=1,\n",
    "    restore_best_weights=True\n",
    ")"
   ]
  },
  {
   "cell_type": "code",
   "execution_count": 24,
   "id": "79e67874",
   "metadata": {},
   "outputs": [
    {
     "name": "stdout",
     "output_type": "stream",
     "text": [
      "Epoch 1/50\n",
      "    176/Unknown \u001b[1m33s\u001b[0m 168ms/step - accuracy: 0.1327 - loss: 27.6574"
     ]
    },
    {
     "name": "stderr",
     "output_type": "stream",
     "text": [
      "d:\\BCA\\AI ML INTERNSHIP INFOSYS\\MINI-PROJECT-TRY\\.venv\\Lib\\site-packages\\keras\\src\\trainers\\epoch_iterator.py:164: UserWarning: Your input ran out of data; interrupting training. Make sure that your dataset or generator can generate at least `steps_per_epoch * epochs` batches. You may need to use the `.repeat()` function when building your dataset.\n",
      "  self._interrupted_warning()\n"
     ]
    },
    {
     "name": "stdout",
     "output_type": "stream",
     "text": [
      "\u001b[1m176/176\u001b[0m \u001b[32m━━━━━━━━━━━━━━━━━━━━\u001b[0m\u001b[37m\u001b[0m \u001b[1m53s\u001b[0m 279ms/step - accuracy: 0.1614 - loss: 7.6715 - val_accuracy: 0.3511 - val_loss: 1.9175 - learning_rate: 0.0010\n",
      "Epoch 2/50\n",
      "\u001b[1m176/176\u001b[0m \u001b[32m━━━━━━━━━━━━━━━━━━━━\u001b[0m\u001b[37m\u001b[0m \u001b[1m49s\u001b[0m 278ms/step - accuracy: 0.4198 - loss: 1.5181 - val_accuracy: 0.6391 - val_loss: 1.3506 - learning_rate: 0.0010\n",
      "Epoch 3/50\n",
      "\u001b[1m176/176\u001b[0m \u001b[32m━━━━━━━━━━━━━━━━━━━━\u001b[0m\u001b[37m\u001b[0m \u001b[1m50s\u001b[0m 285ms/step - accuracy: 0.6105 - loss: 1.0494 - val_accuracy: 0.7010 - val_loss: 1.0741 - learning_rate: 0.0010\n",
      "Epoch 4/50\n",
      "\u001b[1m176/176\u001b[0m \u001b[32m━━━━━━━━━━━━━━━━━━━━\u001b[0m\u001b[37m\u001b[0m \u001b[1m49s\u001b[0m 279ms/step - accuracy: 0.6732 - loss: 0.8832 - val_accuracy: 0.5325 - val_loss: 1.2569 - learning_rate: 0.0010\n",
      "Epoch 5/50\n",
      "\u001b[1m176/176\u001b[0m \u001b[32m━━━━━━━━━━━━━━━━━━━━\u001b[0m\u001b[37m\u001b[0m \u001b[1m48s\u001b[0m 271ms/step - accuracy: 0.7000 - loss: 0.8016 - val_accuracy: 0.7972 - val_loss: 0.9103 - learning_rate: 0.0010\n",
      "Epoch 6/50\n",
      "\u001b[1m176/176\u001b[0m \u001b[32m━━━━━━━━━━━━━━━━━━━━\u001b[0m\u001b[37m\u001b[0m \u001b[1m50s\u001b[0m 284ms/step - accuracy: 0.7297 - loss: 0.7256 - val_accuracy: 0.8058 - val_loss: 0.7299 - learning_rate: 0.0010\n",
      "Epoch 7/50\n",
      "\u001b[1m176/176\u001b[0m \u001b[32m━━━━━━━━━━━━━━━━━━━━\u001b[0m\u001b[37m\u001b[0m \u001b[1m50s\u001b[0m 281ms/step - accuracy: 0.7447 - loss: 0.6955 - val_accuracy: 0.7972 - val_loss: 0.7534 - learning_rate: 0.0010\n",
      "Epoch 8/50\n",
      "\u001b[1m176/176\u001b[0m \u001b[32m━━━━━━━━━━━━━━━━━━━━\u001b[0m\u001b[37m\u001b[0m \u001b[1m49s\u001b[0m 275ms/step - accuracy: 0.7624 - loss: 0.6290 - val_accuracy: 0.7953 - val_loss: 0.7175 - learning_rate: 0.0010\n",
      "Epoch 9/50\n",
      "\u001b[1m176/176\u001b[0m \u001b[32m━━━━━━━━━━━━━━━━━━━━\u001b[0m\u001b[37m\u001b[0m \u001b[1m49s\u001b[0m 275ms/step - accuracy: 0.7673 - loss: 0.6296 - val_accuracy: 0.8352 - val_loss: 0.7331 - learning_rate: 0.0010\n",
      "Epoch 10/50\n",
      "\u001b[1m176/176\u001b[0m \u001b[32m━━━━━━━━━━━━━━━━━━━━\u001b[0m\u001b[37m\u001b[0m \u001b[1m54s\u001b[0m 303ms/step - accuracy: 0.7738 - loss: 0.6075 - val_accuracy: 0.7623 - val_loss: 0.7763 - learning_rate: 0.0010\n",
      "Epoch 11/50\n",
      "\u001b[1m176/176\u001b[0m \u001b[32m━━━━━━━━━━━━━━━━━━━━\u001b[0m\u001b[37m\u001b[0m \u001b[1m55s\u001b[0m 309ms/step - accuracy: 0.7722 - loss: 0.6231 - val_accuracy: 0.8241 - val_loss: 0.6785 - learning_rate: 0.0010\n",
      "Epoch 12/50\n",
      "\u001b[1m176/176\u001b[0m \u001b[32m━━━━━━━━━━━━━━━━━━━━\u001b[0m\u001b[37m\u001b[0m \u001b[1m57s\u001b[0m 322ms/step - accuracy: 0.7779 - loss: 0.5939 - val_accuracy: 0.8290 - val_loss: 0.6111 - learning_rate: 0.0010\n",
      "Epoch 13/50\n",
      "\u001b[1m176/176\u001b[0m \u001b[32m━━━━━━━━━━━━━━━━━━━━\u001b[0m\u001b[37m\u001b[0m \u001b[1m64s\u001b[0m 360ms/step - accuracy: 0.7865 - loss: 0.5694 - val_accuracy: 0.8327 - val_loss: 0.6826 - learning_rate: 0.0010\n",
      "Epoch 14/50\n",
      "\u001b[1m176/176\u001b[0m \u001b[32m━━━━━━━━━━━━━━━━━━━━\u001b[0m\u001b[37m\u001b[0m \u001b[1m50s\u001b[0m 285ms/step - accuracy: 0.7869 - loss: 0.5661 - val_accuracy: 0.8388 - val_loss: 0.5281 - learning_rate: 0.0010\n",
      "Epoch 15/50\n",
      "\u001b[1m176/176\u001b[0m \u001b[32m━━━━━━━━━━━━━━━━━━━━\u001b[0m\u001b[37m\u001b[0m \u001b[1m51s\u001b[0m 290ms/step - accuracy: 0.7888 - loss: 0.5663 - val_accuracy: 0.8352 - val_loss: 0.5425 - learning_rate: 0.0010\n",
      "Epoch 16/50\n",
      "\u001b[1m176/176\u001b[0m \u001b[32m━━━━━━━━━━━━━━━━━━━━\u001b[0m\u001b[37m\u001b[0m \u001b[1m50s\u001b[0m 283ms/step - accuracy: 0.7998 - loss: 0.5268 - val_accuracy: 0.8260 - val_loss: 0.5911 - learning_rate: 0.0010\n",
      "Epoch 17/50\n",
      "\u001b[1m176/176\u001b[0m \u001b[32m━━━━━━━━━━━━━━━━━━━━\u001b[0m\u001b[37m\u001b[0m \u001b[1m0s\u001b[0m 168ms/step - accuracy: 0.8075 - loss: 0.5133\n",
      "Epoch 17: ReduceLROnPlateau reducing learning rate to 0.0005000000237487257.\n",
      "\u001b[1m176/176\u001b[0m \u001b[32m━━━━━━━━━━━━━━━━━━━━\u001b[0m\u001b[37m\u001b[0m \u001b[1m53s\u001b[0m 298ms/step - accuracy: 0.7920 - loss: 0.5450 - val_accuracy: 0.8505 - val_loss: 0.6361 - learning_rate: 0.0010\n",
      "Epoch 18/50\n",
      "\u001b[1m176/176\u001b[0m \u001b[32m━━━━━━━━━━━━━━━━━━━━\u001b[0m\u001b[37m\u001b[0m \u001b[1m51s\u001b[0m 287ms/step - accuracy: 0.8236 - loss: 0.4510 - val_accuracy: 0.8597 - val_loss: 0.4728 - learning_rate: 5.0000e-04\n",
      "Epoch 19/50\n",
      "\u001b[1m176/176\u001b[0m \u001b[32m━━━━━━━━━━━━━━━━━━━━\u001b[0m\u001b[37m\u001b[0m \u001b[1m49s\u001b[0m 277ms/step - accuracy: 0.8369 - loss: 0.4283 - val_accuracy: 0.8689 - val_loss: 0.4621 - learning_rate: 5.0000e-04\n",
      "Epoch 20/50\n",
      "\u001b[1m176/176\u001b[0m \u001b[32m━━━━━━━━━━━━━━━━━━━━\u001b[0m\u001b[37m\u001b[0m \u001b[1m47s\u001b[0m 263ms/step - accuracy: 0.8365 - loss: 0.4259 - val_accuracy: 0.8536 - val_loss: 0.4645 - learning_rate: 5.0000e-04\n",
      "Epoch 21/50\n",
      "\u001b[1m176/176\u001b[0m \u001b[32m━━━━━━━━━━━━━━━━━━━━\u001b[0m\u001b[37m\u001b[0m \u001b[1m50s\u001b[0m 281ms/step - accuracy: 0.8395 - loss: 0.4156 - val_accuracy: 0.8854 - val_loss: 0.4222 - learning_rate: 5.0000e-04\n",
      "Epoch 22/50\n",
      "\u001b[1m176/176\u001b[0m \u001b[32m━━━━━━━━━━━━━━━━━━━━\u001b[0m\u001b[37m\u001b[0m \u001b[1m49s\u001b[0m 274ms/step - accuracy: 0.8471 - loss: 0.3932 - val_accuracy: 0.8879 - val_loss: 0.4037 - learning_rate: 5.0000e-04\n",
      "Epoch 23/50\n",
      "\u001b[1m176/176\u001b[0m \u001b[32m━━━━━━━━━━━━━━━━━━━━\u001b[0m\u001b[37m\u001b[0m \u001b[1m49s\u001b[0m 277ms/step - accuracy: 0.8349 - loss: 0.4053 - val_accuracy: 0.8578 - val_loss: 0.4483 - learning_rate: 5.0000e-04\n",
      "Epoch 24/50\n",
      "\u001b[1m176/176\u001b[0m \u001b[32m━━━━━━━━━━━━━━━━━━━━\u001b[0m\u001b[37m\u001b[0m \u001b[1m50s\u001b[0m 282ms/step - accuracy: 0.8450 - loss: 0.3986 - val_accuracy: 0.8817 - val_loss: 0.4277 - learning_rate: 5.0000e-04\n",
      "Epoch 25/50\n",
      "\u001b[1m176/176\u001b[0m \u001b[32m━━━━━━━━━━━━━━━━━━━━\u001b[0m\u001b[37m\u001b[0m \u001b[1m58s\u001b[0m 326ms/step - accuracy: 0.8420 - loss: 0.3958 - val_accuracy: 0.8836 - val_loss: 0.3903 - learning_rate: 5.0000e-04\n",
      "Epoch 26/50\n",
      "\u001b[1m176/176\u001b[0m \u001b[32m━━━━━━━━━━━━━━━━━━━━\u001b[0m\u001b[37m\u001b[0m \u001b[1m55s\u001b[0m 312ms/step - accuracy: 0.8556 - loss: 0.3765 - val_accuracy: 0.8701 - val_loss: 0.3747 - learning_rate: 5.0000e-04\n",
      "Epoch 27/50\n",
      "\u001b[1m176/176\u001b[0m \u001b[32m━━━━━━━━━━━━━━━━━━━━\u001b[0m\u001b[37m\u001b[0m \u001b[1m52s\u001b[0m 293ms/step - accuracy: 0.8466 - loss: 0.3953 - val_accuracy: 0.8793 - val_loss: 0.4131 - learning_rate: 5.0000e-04\n",
      "Epoch 28/50\n",
      "\u001b[1m176/176\u001b[0m \u001b[32m━━━━━━━━━━━━━━━━━━━━\u001b[0m\u001b[37m\u001b[0m \u001b[1m54s\u001b[0m 305ms/step - accuracy: 0.8501 - loss: 0.3824 - val_accuracy: 0.8787 - val_loss: 0.3890 - learning_rate: 5.0000e-04\n",
      "Epoch 29/50\n",
      "\u001b[1m176/176\u001b[0m \u001b[32m━━━━━━━━━━━━━━━━━━━━\u001b[0m\u001b[37m\u001b[0m \u001b[1m0s\u001b[0m 170ms/step - accuracy: 0.8540 - loss: 0.3686\n",
      "Epoch 29: ReduceLROnPlateau reducing learning rate to 0.0002500000118743628.\n",
      "\u001b[1m176/176\u001b[0m \u001b[32m━━━━━━━━━━━━━━━━━━━━\u001b[0m\u001b[37m\u001b[0m \u001b[1m54s\u001b[0m 305ms/step - accuracy: 0.8415 - loss: 0.3947 - val_accuracy: 0.8787 - val_loss: 0.3983 - learning_rate: 5.0000e-04\n",
      "Epoch 30/50\n",
      "\u001b[1m176/176\u001b[0m \u001b[32m━━━━━━━━━━━━━━━━━━━━\u001b[0m\u001b[37m\u001b[0m \u001b[1m54s\u001b[0m 302ms/step - accuracy: 0.8639 - loss: 0.3356 - val_accuracy: 0.8971 - val_loss: 0.3209 - learning_rate: 2.5000e-04\n",
      "Epoch 31/50\n",
      "\u001b[1m176/176\u001b[0m \u001b[32m━━━━━━━━━━━━━━━━━━━━\u001b[0m\u001b[37m\u001b[0m \u001b[1m53s\u001b[0m 301ms/step - accuracy: 0.8718 - loss: 0.3240 - val_accuracy: 0.8836 - val_loss: 0.3400 - learning_rate: 2.5000e-04\n",
      "Epoch 32/50\n",
      "\u001b[1m176/176\u001b[0m \u001b[32m━━━━━━━━━━━━━━━━━━━━\u001b[0m\u001b[37m\u001b[0m \u001b[1m52s\u001b[0m 291ms/step - accuracy: 0.8727 - loss: 0.3118 - val_accuracy: 0.8940 - val_loss: 0.3196 - learning_rate: 2.5000e-04\n",
      "Epoch 33/50\n",
      "\u001b[1m176/176\u001b[0m \u001b[32m━━━━━━━━━━━━━━━━━━━━\u001b[0m\u001b[37m\u001b[0m \u001b[1m50s\u001b[0m 281ms/step - accuracy: 0.8729 - loss: 0.3202 - val_accuracy: 0.8983 - val_loss: 0.3341 - learning_rate: 2.5000e-04\n",
      "Epoch 34/50\n",
      "\u001b[1m176/176\u001b[0m \u001b[32m━━━━━━━━━━━━━━━━━━━━\u001b[0m\u001b[37m\u001b[0m \u001b[1m53s\u001b[0m 300ms/step - accuracy: 0.8709 - loss: 0.3237 - val_accuracy: 0.9062 - val_loss: 0.3236 - learning_rate: 2.5000e-04\n",
      "Epoch 35/50\n",
      "\u001b[1m176/176\u001b[0m \u001b[32m━━━━━━━━━━━━━━━━━━━━\u001b[0m\u001b[37m\u001b[0m \u001b[1m53s\u001b[0m 298ms/step - accuracy: 0.8812 - loss: 0.3073 - val_accuracy: 0.8983 - val_loss: 0.3162 - learning_rate: 2.5000e-04\n",
      "Epoch 36/50\n",
      "\u001b[1m176/176\u001b[0m \u001b[32m━━━━━━━━━━━━━━━━━━━━\u001b[0m\u001b[37m\u001b[0m \u001b[1m53s\u001b[0m 297ms/step - accuracy: 0.8808 - loss: 0.2971 - val_accuracy: 0.9038 - val_loss: 0.3100 - learning_rate: 2.5000e-04\n",
      "Epoch 37/50\n",
      "\u001b[1m176/176\u001b[0m \u001b[32m━━━━━━━━━━━━━━━━━━━━\u001b[0m\u001b[37m\u001b[0m \u001b[1m52s\u001b[0m 295ms/step - accuracy: 0.8739 - loss: 0.3078 - val_accuracy: 0.9154 - val_loss: 0.3062 - learning_rate: 2.5000e-04\n",
      "Epoch 38/50\n",
      "\u001b[1m176/176\u001b[0m \u001b[32m━━━━━━━━━━━━━━━━━━━━\u001b[0m\u001b[37m\u001b[0m \u001b[1m52s\u001b[0m 291ms/step - accuracy: 0.8718 - loss: 0.3037 - val_accuracy: 0.9075 - val_loss: 0.2950 - learning_rate: 2.5000e-04\n",
      "Epoch 39/50\n",
      "\u001b[1m176/176\u001b[0m \u001b[32m━━━━━━━━━━━━━━━━━━━━\u001b[0m\u001b[37m\u001b[0m \u001b[1m49s\u001b[0m 276ms/step - accuracy: 0.8805 - loss: 0.3056 - val_accuracy: 0.9062 - val_loss: 0.3069 - learning_rate: 2.5000e-04\n",
      "Epoch 40/50\n",
      "\u001b[1m176/176\u001b[0m \u001b[32m━━━━━━━━━━━━━━━━━━━━\u001b[0m\u001b[37m\u001b[0m \u001b[1m45s\u001b[0m 254ms/step - accuracy: 0.8833 - loss: 0.2991 - val_accuracy: 0.9087 - val_loss: 0.2972 - learning_rate: 2.5000e-04\n",
      "Epoch 41/50\n",
      "\u001b[1m176/176\u001b[0m \u001b[32m━━━━━━━━━━━━━━━━━━━━\u001b[0m\u001b[37m\u001b[0m \u001b[1m0s\u001b[0m 205ms/step - accuracy: 0.8960 - loss: 0.2731\n",
      "Epoch 41: ReduceLROnPlateau reducing learning rate to 0.0001250000059371814.\n",
      "\u001b[1m176/176\u001b[0m \u001b[32m━━━━━━━━━━━━━━━━━━━━\u001b[0m\u001b[37m\u001b[0m \u001b[1m63s\u001b[0m 358ms/step - accuracy: 0.8835 - loss: 0.2851 - val_accuracy: 0.9167 - val_loss: 0.3014 - learning_rate: 2.5000e-04\n",
      "Epoch 42/50\n",
      "\u001b[1m176/176\u001b[0m \u001b[32m━━━━━━━━━━━━━━━━━━━━\u001b[0m\u001b[37m\u001b[0m \u001b[1m59s\u001b[0m 331ms/step - accuracy: 0.8886 - loss: 0.2786 - val_accuracy: 0.9179 - val_loss: 0.2832 - learning_rate: 1.2500e-04\n",
      "Epoch 43/50\n",
      "\u001b[1m176/176\u001b[0m \u001b[32m━━━━━━━━━━━━━━━━━━━━\u001b[0m\u001b[37m\u001b[0m \u001b[1m57s\u001b[0m 320ms/step - accuracy: 0.8907 - loss: 0.2702 - val_accuracy: 0.9142 - val_loss: 0.2678 - learning_rate: 1.2500e-04\n",
      "Epoch 44/50\n",
      "\u001b[1m176/176\u001b[0m \u001b[32m━━━━━━━━━━━━━━━━━━━━\u001b[0m\u001b[37m\u001b[0m \u001b[1m56s\u001b[0m 314ms/step - accuracy: 0.8950 - loss: 0.2591 - val_accuracy: 0.9112 - val_loss: 0.2745 - learning_rate: 1.2500e-04\n",
      "Epoch 45/50\n",
      "\u001b[1m176/176\u001b[0m \u001b[32m━━━━━━━━━━━━━━━━━━━━\u001b[0m\u001b[37m\u001b[0m \u001b[1m58s\u001b[0m 327ms/step - accuracy: 0.8994 - loss: 0.2567 - val_accuracy: 0.9105 - val_loss: 0.2685 - learning_rate: 1.2500e-04\n",
      "Epoch 46/50\n",
      "\u001b[1m176/176\u001b[0m \u001b[32m━━━━━━━━━━━━━━━━━━━━\u001b[0m\u001b[37m\u001b[0m \u001b[1m59s\u001b[0m 332ms/step - accuracy: 0.8941 - loss: 0.2563 - val_accuracy: 0.9320 - val_loss: 0.2557 - learning_rate: 1.2500e-04\n",
      "Epoch 47/50\n",
      "\u001b[1m176/176\u001b[0m \u001b[32m━━━━━━━━━━━━━━━━━━━━\u001b[0m\u001b[37m\u001b[0m \u001b[1m56s\u001b[0m 315ms/step - accuracy: 0.8912 - loss: 0.2599 - val_accuracy: 0.9191 - val_loss: 0.2621 - learning_rate: 1.2500e-04\n",
      "Epoch 48/50\n",
      "\u001b[1m176/176\u001b[0m \u001b[32m━━━━━━━━━━━━━━━━━━━━\u001b[0m\u001b[37m\u001b[0m \u001b[1m60s\u001b[0m 339ms/step - accuracy: 0.8935 - loss: 0.2556 - val_accuracy: 0.9246 - val_loss: 0.2569 - learning_rate: 1.2500e-04\n",
      "Epoch 49/50\n",
      "\u001b[1m176/176\u001b[0m \u001b[32m━━━━━━━━━━━━━━━━━━━━\u001b[0m\u001b[37m\u001b[0m \u001b[1m61s\u001b[0m 347ms/step - accuracy: 0.8937 - loss: 0.2445 - val_accuracy: 0.9252 - val_loss: 0.2478 - learning_rate: 1.2500e-04\n",
      "Epoch 50/50\n",
      "\u001b[1m176/176\u001b[0m \u001b[32m━━━━━━━━━━━━━━━━━━━━\u001b[0m\u001b[37m\u001b[0m \u001b[1m62s\u001b[0m 351ms/step - accuracy: 0.8962 - loss: 0.2466 - val_accuracy: 0.9105 - val_loss: 0.2578 - learning_rate: 1.2500e-04\n",
      "Restoring model weights from the end of the best epoch: 49.\n"
     ]
    }
   ],
   "source": [
    "history_high_acc = high_acc_model.fit(\n",
    "    train_dataset,\n",
    "    validation_data=val_dataset,\n",
    "    epochs=50,\n",
    "    callbacks=[reduce_lr, early_stop]\n",
    ")"
   ]
  },
  {
   "cell_type": "code",
   "execution_count": 25,
   "id": "34c1c345",
   "metadata": {},
   "outputs": [
    {
     "name": "stdout",
     "output_type": "stream",
     "text": [
      "\u001b[1m50/50\u001b[0m \u001b[32m━━━━━━━━━━━━━━━━━━━━\u001b[0m\u001b[37m\u001b[0m \u001b[1m24s\u001b[0m 114ms/step - accuracy: 0.9259 - loss: 0.2440\n",
      "High Accuracy Model - Loss : 0.24399442970752716, Accuracy: 0.9258578419685364\n"
     ]
    }
   ],
   "source": [
    "high_acc_eval = high_acc_model.evaluate(val_dataset)\n",
    "print(f\"High Accuracy Model - Loss : {high_acc_eval[0]}, Accuracy: {high_acc_eval[1]}\")"
   ]
  },
  {
   "cell_type": "code",
   "execution_count": 26,
   "id": "2f565f5b",
   "metadata": {},
   "outputs": [],
   "source": [
    "%matplotlib inline\n",
    "import matplotlib.pyplot as plt\n"
   ]
  },
  {
   "cell_type": "code",
   "execution_count": 27,
   "id": "2a4fc2d7",
   "metadata": {},
   "outputs": [],
   "source": [
    "import matplotlib.pyplot as plt\n",
    "def plot_accuracy(history):\n",
    "    plt.plot(history.history['accuracy'])\n",
    "    plt.plot(history.history['val_accuracy'])\n",
    "    plt.title('Model Accuracy')\n",
    "    plt.ylabel('Accuracy')\n",
    "    plt.xlabel('Epoch')\n",
    "    plt.legend(['Train', 'Validation'], loc='upper left')\n",
    "    plt.show()\n",
    "\n",
    "    plot_accuracy(history_high_acc)"
   ]
  },
  {
   "cell_type": "code",
   "execution_count": 28,
   "id": "83b15f8c",
   "metadata": {},
   "outputs": [
    {
     "name": "stdout",
     "output_type": "stream",
     "text": [
      "\u001b[1m1/1\u001b[0m \u001b[32m━━━━━━━━━━━━━━━━━━━━\u001b[0m\u001b[37m\u001b[0m \u001b[1m0s\u001b[0m 77ms/step\n",
      "\u001b[1m1/1\u001b[0m \u001b[32m━━━━━━━━━━━━━━━━━━━━\u001b[0m\u001b[37m\u001b[0m \u001b[1m0s\u001b[0m 118ms/step\n",
      "\u001b[1m1/1\u001b[0m \u001b[32m━━━━━━━━━━━━━━━━━━━━\u001b[0m\u001b[37m\u001b[0m \u001b[1m0s\u001b[0m 106ms/step\n",
      "\u001b[1m1/1\u001b[0m \u001b[32m━━━━━━━━━━━━━━━━━━━━\u001b[0m\u001b[37m\u001b[0m \u001b[1m0s\u001b[0m 94ms/step\n",
      "\u001b[1m1/1\u001b[0m \u001b[32m━━━━━━━━━━━━━━━━━━━━\u001b[0m\u001b[37m\u001b[0m \u001b[1m0s\u001b[0m 107ms/step\n",
      "\u001b[1m1/1\u001b[0m \u001b[32m━━━━━━━━━━━━━━━━━━━━\u001b[0m\u001b[37m\u001b[0m \u001b[1m0s\u001b[0m 103ms/step\n",
      "\u001b[1m1/1\u001b[0m \u001b[32m━━━━━━━━━━━━━━━━━━━━\u001b[0m\u001b[37m\u001b[0m \u001b[1m0s\u001b[0m 86ms/step\n",
      "\u001b[1m1/1\u001b[0m \u001b[32m━━━━━━━━━━━━━━━━━━━━\u001b[0m\u001b[37m\u001b[0m \u001b[1m0s\u001b[0m 113ms/step\n",
      "\u001b[1m1/1\u001b[0m \u001b[32m━━━━━━━━━━━━━━━━━━━━\u001b[0m\u001b[37m\u001b[0m \u001b[1m0s\u001b[0m 84ms/step\n",
      "\u001b[1m1/1\u001b[0m \u001b[32m━━━━━━━━━━━━━━━━━━━━\u001b[0m\u001b[37m\u001b[0m \u001b[1m0s\u001b[0m 91ms/step\n",
      "\u001b[1m1/1\u001b[0m \u001b[32m━━━━━━━━━━━━━━━━━━━━\u001b[0m\u001b[37m\u001b[0m \u001b[1m0s\u001b[0m 91ms/step\n",
      "\u001b[1m1/1\u001b[0m \u001b[32m━━━━━━━━━━━━━━━━━━━━\u001b[0m\u001b[37m\u001b[0m \u001b[1m0s\u001b[0m 98ms/step\n",
      "\u001b[1m1/1\u001b[0m \u001b[32m━━━━━━━━━━━━━━━━━━━━\u001b[0m\u001b[37m\u001b[0m \u001b[1m0s\u001b[0m 81ms/step\n",
      "\u001b[1m1/1\u001b[0m \u001b[32m━━━━━━━━━━━━━━━━━━━━\u001b[0m\u001b[37m\u001b[0m \u001b[1m0s\u001b[0m 111ms/step\n",
      "\u001b[1m1/1\u001b[0m \u001b[32m━━━━━━━━━━━━━━━━━━━━\u001b[0m\u001b[37m\u001b[0m \u001b[1m0s\u001b[0m 103ms/step\n",
      "\u001b[1m1/1\u001b[0m \u001b[32m━━━━━━━━━━━━━━━━━━━━\u001b[0m\u001b[37m\u001b[0m \u001b[1m0s\u001b[0m 93ms/step\n",
      "\u001b[1m1/1\u001b[0m \u001b[32m━━━━━━━━━━━━━━━━━━━━\u001b[0m\u001b[37m\u001b[0m \u001b[1m0s\u001b[0m 95ms/step\n",
      "\u001b[1m1/1\u001b[0m \u001b[32m━━━━━━━━━━━━━━━━━━━━\u001b[0m\u001b[37m\u001b[0m \u001b[1m0s\u001b[0m 98ms/step\n",
      "\u001b[1m1/1\u001b[0m \u001b[32m━━━━━━━━━━━━━━━━━━━━\u001b[0m\u001b[37m\u001b[0m \u001b[1m0s\u001b[0m 112ms/step\n",
      "\u001b[1m1/1\u001b[0m \u001b[32m━━━━━━━━━━━━━━━━━━━━\u001b[0m\u001b[37m\u001b[0m \u001b[1m0s\u001b[0m 85ms/step\n",
      "\u001b[1m1/1\u001b[0m \u001b[32m━━━━━━━━━━━━━━━━━━━━\u001b[0m\u001b[37m\u001b[0m \u001b[1m0s\u001b[0m 103ms/step\n",
      "\u001b[1m1/1\u001b[0m \u001b[32m━━━━━━━━━━━━━━━━━━━━\u001b[0m\u001b[37m\u001b[0m \u001b[1m0s\u001b[0m 98ms/step\n",
      "\u001b[1m1/1\u001b[0m \u001b[32m━━━━━━━━━━━━━━━━━━━━\u001b[0m\u001b[37m\u001b[0m \u001b[1m0s\u001b[0m 96ms/step\n",
      "\u001b[1m1/1\u001b[0m \u001b[32m━━━━━━━━━━━━━━━━━━━━\u001b[0m\u001b[37m\u001b[0m \u001b[1m0s\u001b[0m 96ms/step\n",
      "\u001b[1m1/1\u001b[0m \u001b[32m━━━━━━━━━━━━━━━━━━━━\u001b[0m\u001b[37m\u001b[0m \u001b[1m0s\u001b[0m 78ms/step\n",
      "Classification Report:\n",
      "              precision    recall  f1-score   support\n",
      "\n",
      "          A+       0.98      0.99      0.99       105\n",
      "          A-       0.93      0.82      0.87        61\n",
      "         AB+       0.95      0.96      0.95        75\n",
      "         AB-       0.96      0.98      0.97       115\n",
      "          B+       1.00      0.99      0.99        97\n",
      "          B-       0.97      0.99      0.98       149\n",
      "          O+       0.95      0.98      0.96        84\n",
      "          O-       0.99      0.97      0.98       114\n",
      "\n",
      "    accuracy                           0.97       800\n",
      "   macro avg       0.97      0.96      0.96       800\n",
      "weighted avg       0.97      0.97      0.97       800\n",
      "\n"
     ]
    },
    {
     "data": {
      "image/png": "[encoded data removed]",
      "text/plain": [
       "<Figure size 800x600 with 2 Axes>"
      ]
     },
     "metadata": {},
     "output_type": "display_data"
    }
   ],
   "source": [
    "y_true = []\n",
    "y_pred = []\n",
    "\n",
    "for images, labels in test_dataset:\n",
    "    predicitions = high_acc_model.predict(images)\n",
    "    predicted_labels = np.argmax(predicitions, axis=1)\n",
    "    y_true.extend(labels.numpy())\n",
    "    y_pred.extend(predicted_labels)\n",
    "\n",
    "y_true = np.array(y_true)\n",
    "y_pred = np.array(y_pred)\n",
    "\n",
    "report = classification_report(y_true, y_pred, target_names=class_names)\n",
    "print(\"Classification Report:\")\n",
    "print(report)\n",
    "\n",
    "conf_matrix = confusion_matrix(y_true, y_pred)\n",
    "\n",
    "plt.figure(figsize=(8, 6))\n",
    "sns.heatmap(conf_matrix, annot=True, fmt='d', cmap='Blues', xticklabels=class_names, yticklabels=class_names)\n",
    "plt.title('Confusion Matrix')\n",
    "plt.xlabel('Predicted')\n",
    "plt.ylabel('True')\n",
    "plt.show()\n",
    "\n"
   ]
  },
  {
   "cell_type": "code",
   "execution_count": 29,
   "id": "6e9312b9",
   "metadata": {},
   "outputs": [
    {
     "name": "stderr",
     "output_type": "stream",
     "text": [
      "WARNING:absl:You are saving your model as an HDF5 file via `model.save()` or `keras.saving.save_model(model)`. This file format is considered legacy. We recommend using instead the native Keras format, e.g. `model.save('my_model.keras')` or `keras.saving.save_model(model, 'my_model.keras')`. \n"
     ]
    },
    {
     "name": "stdout",
     "output_type": "stream",
     "text": [
      "Model save as HDF5 format.\n"
     ]
    }
   ],
   "source": [
    "high_acc_model.save('model.h5')\n",
    "print(\"Model save as HDF5 format.\")"
   ]
  }
 ],
 "metadata": {
  "kernelspec": {
   "display_name": ".venv",
   "language": "python",
   "name": "python3"
  },
  "language_info": {
   "codemirror_mode": {
    "name": "ipython",
    "version": 3
   },
   "file_extension": ".py",
   "mimetype": "text/x-python",
   "name": "python",
   "nbconvert_exporter": "python",
   "pygments_lexer": "ipython3",
   "version": "3.13.7"
  }
 },
 "nbformat": 4,
 "nbformat_minor": 5
}
