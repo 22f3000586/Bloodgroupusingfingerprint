{
  "cells": [
    {
      "cell_type": "code",
      "execution_count": null,
      "metadata": {
        "id": "4jAWgHSkGHjC",
        "colab": {
          "base_uri": "https://localhost:8080/"
        },
        "outputId": "42b79582-e1ac-400c-814d-baaeddd4d5d8"
      },
      "outputs": [
        {
          "output_type": "stream",
          "name": "stdout",
          "text": [
            "✅ Libraries installed & imported\n"
          ]
        }
      ],
      "source": [
        "!pip install --quiet kaggle torch torchvision matplotlib scikit-learn joblib\n",
        "\n",
        "import os, zipfile, shutil, random\n",
        "import numpy as np\n",
        "import pandas as pd\n",
        "import matplotlib.pyplot as plt\n",
        "import torch\n",
        "import torch.nn as nn\n",
        "import torch.optim as optim\n",
        "from torch.utils.data import DataLoader, Dataset\n",
        "from torchvision import transforms, models, datasets\n",
        "\n",
        "from sklearn.metrics import classification_report, confusion_matrix\n",
        "import joblib\n",
        "\n",
        "print(\"✅ Libraries installed & imported\")"
      ]
    },
    {
      "cell_type": "code",
      "source": [
        "# 👇 Upload your kaggle.json (from your Kaggle account settings)\n",
        "from google.colab import files\n",
        "files.upload()  # Choose kaggle.json\n",
        "\n",
        "!mkdir -p ~/.kaggle\n",
        "!mv kaggle.json ~/.kaggle/\n",
        "!chmod 600 ~/.kaggle/kaggle.json\n",
        "\n",
        "# Download dataset\n",
        "!kaggle datasets download -d rajumavinmar/finger-print-based-blood-group-dataset\n",
        "!unzip -q finger-print-based-blood-group-dataset.zip -d dataset\n",
        "\n",
        "print(\"✅ Dataset downloaded and extracted\")\n",
        "\n",
        "# Inspect structure\n",
        "!ls dataset"
      ],
      "metadata": {
        "colab": {
          "base_uri": "https://localhost:8080/",
          "height": 195
        },
        "id": "idsJCyYWs63q",
        "outputId": "2c0d8f64-dada-4329-a0c7-0ded693dfaca"
      },
      "execution_count": null,
      "outputs": [
        {
          "output_type": "display_data",
          "data": {
            "text/plain": [
              "<IPython.core.display.HTML object>"
            ],
            "text/html": [
              "\n",
              "     <input type=\"file\" id=\"files-e9b53282-c521-4698-8bb7-e5212f598910\" name=\"files[]\" multiple disabled\n",
              "        style=\"border:none\" />\n",
              "     <output id=\"result-e9b53282-c521-4698-8bb7-e5212f598910\">\n",
              "      Upload widget is only available when the cell has been executed in the\n",
              "      current browser session. Please rerun this cell to enable.\n",
              "      </output>\n",
              "      <script>// Copyright 2017 Google LLC\n",
              "//\n",
              "// Licensed under the Apache License, Version 2.0 (the \"License\");\n",
              "// you may not use this file except in compliance with the License.\n",
              "// You may obtain a copy of the License at\n",
              "//\n",
              "//      http://www.apache.org/licenses/LICENSE-2.0\n",
              "//\n",
              "// Unless required by applicable law or agreed to in writing, software\n",
              "// distributed under the License is distributed on an \"AS IS\" BASIS,\n",
              "// WITHOUT WARRANTIES OR CONDITIONS OF ANY KIND, either express or implied.\n",
              "// See the License for the specific language governing permissions and\n",
              "// limitations under the License.\n",
              "\n",
              "/**\n",
              " * @fileoverview Helpers for google.colab Python module.\n",
              " */\n",
              "(function(scope) {\n",
              "function span(text, styleAttributes = {}) {\n",
              "  const element = document.createElement('span');\n",
              "  element.textContent = text;\n",
              "  for (const key of Object.keys(styleAttributes)) {\n",
              "    element.style[key] = styleAttributes[key];\n",
              "  }\n",
              "  return element;\n",
              "}\n",
              "\n",
              "// Max number of bytes which will be uploaded at a time.\n",
              "const MAX_PAYLOAD_SIZE = 100 * 1024;\n",
              "\n",
              "function _uploadFiles(inputId, outputId) {\n",
              "  const steps = uploadFilesStep(inputId, outputId);\n",
              "  const outputElement = document.getElementById(outputId);\n",
              "  // Cache steps on the outputElement to make it available for the next call\n",
              "  // to uploadFilesContinue from Python.\n",
              "  outputElement.steps = steps;\n",
              "\n",
              "  return _uploadFilesContinue(outputId);\n",
              "}\n",
              "\n",
              "// This is roughly an async generator (not supported in the browser yet),\n",
              "// where there are multiple asynchronous steps and the Python side is going\n",
              "// to poll for completion of each step.\n",
              "// This uses a Promise to block the python side on completion of each step,\n",
              "// then passes the result of the previous step as the input to the next step.\n",
              "function _uploadFilesContinue(outputId) {\n",
              "  const outputElement = document.getElementById(outputId);\n",
              "  const steps = outputElement.steps;\n",
              "\n",
              "  const next = steps.next(outputElement.lastPromiseValue);\n",
              "  return Promise.resolve(next.value.promise).then((value) => {\n",
              "    // Cache the last promise value to make it available to the next\n",
              "    // step of the generator.\n",
              "    outputElement.lastPromiseValue = value;\n",
              "    return next.value.response;\n",
              "  });\n",
              "}\n",
              "\n",
              "/**\n",
              " * Generator function which is called between each async step of the upload\n",
              " * process.\n",
              " * @param {string} inputId Element ID of the input file picker element.\n",
              " * @param {string} outputId Element ID of the output display.\n",
              " * @return {!Iterable<!Object>} Iterable of next steps.\n",
              " */\n",
              "function* uploadFilesStep(inputId, outputId) {\n",
              "  const inputElement = document.getElementById(inputId);\n",
              "  inputElement.disabled = false;\n",
              "\n",
              "  const outputElement = document.getElementById(outputId);\n",
              "  outputElement.innerHTML = '';\n",
              "\n",
              "  const pickedPromise = new Promise((resolve) => {\n",
              "    inputElement.addEventListener('change', (e) => {\n",
              "      resolve(e.target.files);\n",
              "    });\n",
              "  });\n",
              "\n",
              "  const cancel = document.createElement('button');\n",
              "  inputElement.parentElement.appendChild(cancel);\n",
              "  cancel.textContent = 'Cancel upload';\n",
              "  const cancelPromise = new Promise((resolve) => {\n",
              "    cancel.onclick = () => {\n",
              "      resolve(null);\n",
              "    };\n",
              "  });\n",
              "\n",
              "  // Wait for the user to pick the files.\n",
              "  const files = yield {\n",
              "    promise: Promise.race([pickedPromise, cancelPromise]),\n",
              "    response: {\n",
              "      action: 'starting',\n",
              "    }\n",
              "  };\n",
              "\n",
              "  cancel.remove();\n",
              "\n",
              "  // Disable the input element since further picks are not allowed.\n",
              "  inputElement.disabled = true;\n",
              "\n",
              "  if (!files) {\n",
              "    return {\n",
              "      response: {\n",
              "        action: 'complete',\n",
              "      }\n",
              "    };\n",
              "  }\n",
              "\n",
              "  for (const file of files) {\n",
              "    const li = document.createElement('li');\n",
              "    li.append(span(file.name, {fontWeight: 'bold'}));\n",
              "    li.append(span(\n",
              "        `(${file.type || 'n/a'}) - ${file.size} bytes, ` +\n",
              "        `last modified: ${\n",
              "            file.lastModifiedDate ? file.lastModifiedDate.toLocaleDateString() :\n",
              "                                    'n/a'} - `));\n",
              "    const percent = span('0% done');\n",
              "    li.appendChild(percent);\n",
              "\n",
              "    outputElement.appendChild(li);\n",
              "\n",
              "    const fileDataPromise = new Promise((resolve) => {\n",
              "      const reader = new FileReader();\n",
              "      reader.onload = (e) => {\n",
              "        resolve(e.target.result);\n",
              "      };\n",
              "      reader.readAsArrayBuffer(file);\n",
              "    });\n",
              "    // Wait for the data to be ready.\n",
              "    let fileData = yield {\n",
              "      promise: fileDataPromise,\n",
              "      response: {\n",
              "        action: 'continue',\n",
              "      }\n",
              "    };\n",
              "\n",
              "    // Use a chunked sending to avoid message size limits. See b/62115660.\n",
              "    let position = 0;\n",
              "    do {\n",
              "      const length = Math.min(fileData.byteLength - position, MAX_PAYLOAD_SIZE);\n",
              "      const chunk = new Uint8Array(fileData, position, length);\n",
              "      position += length;\n",
              "\n",
              "      const base64 = btoa(String.fromCharCode.apply(null, chunk));\n",
              "      yield {\n",
              "        response: {\n",
              "          action: 'append',\n",
              "          file: file.name,\n",
              "          data: base64,\n",
              "        },\n",
              "      };\n",
              "\n",
              "      let percentDone = fileData.byteLength === 0 ?\n",
              "          100 :\n",
              "          Math.round((position / fileData.byteLength) * 100);\n",
              "      percent.textContent = `${percentDone}% done`;\n",
              "\n",
              "    } while (position < fileData.byteLength);\n",
              "  }\n",
              "\n",
              "  // All done.\n",
              "  yield {\n",
              "    response: {\n",
              "      action: 'complete',\n",
              "    }\n",
              "  };\n",
              "}\n",
              "\n",
              "scope.google = scope.google || {};\n",
              "scope.google.colab = scope.google.colab || {};\n",
              "scope.google.colab._files = {\n",
              "  _uploadFiles,\n",
              "  _uploadFilesContinue,\n",
              "};\n",
              "})(self);\n",
              "</script> "
            ]
          },
          "metadata": {}
        },
        {
          "output_type": "stream",
          "name": "stdout",
          "text": [
            "Saving kaggle.json to kaggle.json\n",
            "Dataset URL: https://www.kaggle.com/datasets/rajumavinmar/finger-print-based-blood-group-dataset\n",
            "License(s): unknown\n",
            "Downloading finger-print-based-blood-group-dataset.zip to /content\n",
            "  0% 0.00/58.1M [00:00<?, ?B/s]\n",
            "100% 58.1M/58.1M [00:00<00:00, 1.76GB/s]\n",
            "✅ Dataset downloaded and extracted\n",
            "dataset_blood_group\n"
          ]
        }
      ]
    },
    {
      "cell_type": "code",
      "source": [
        "import os, shutil, random\n",
        "\n",
        "# Automatically detect the correct root containing class folders\n",
        "possible_dirs = [os.path.join(\"dataset\", d) for d in os.listdir(\"dataset\")]\n",
        "data_dir = None\n",
        "for d in possible_dirs:\n",
        "    if os.path.isdir(d) and len(os.listdir(d)) > 0:\n",
        "        # Check if this folder directly contains class folders (like A+, B+, etc.)\n",
        "        subdirs = [os.path.join(d, sd) for sd in os.listdir(d) if os.path.isdir(os.path.join(d, sd))]\n",
        "        if len(subdirs) > 0 and all(os.path.isdir(s) for s in subdirs):\n",
        "            data_dir = d\n",
        "            break\n",
        "\n",
        "if data_dir is None:\n",
        "    raise RuntimeError(\"❌ Could not find dataset folder with class subdirectories. Check dataset/ structure.\")\n",
        "\n",
        "print(f\"✅ Using data directory: {data_dir}\")\n",
        "\n",
        "# Define train/val target dirs\n",
        "train_dir = \"data/train\"\n",
        "val_dir = \"data/val\"\n",
        "\n",
        "# Recreate split folders\n",
        "if os.path.exists(\"data\"):\n",
        "    shutil.rmtree(\"data\")\n",
        "\n",
        "os.makedirs(train_dir)\n",
        "os.makedirs(val_dir)\n",
        "\n",
        "# Split 80/20 into train/val\n",
        "for cls in os.listdir(data_dir):\n",
        "    cls_path = os.path.join(data_dir, cls)\n",
        "    if os.path.isdir(cls_path):\n",
        "        images = []\n",
        "        for root, _, files in os.walk(cls_path):\n",
        "            for f in files:\n",
        "                if f.lower().endswith((\".jpg\", \".jpeg\", \".png\")):\n",
        "                    images.append(os.path.join(root, f))\n",
        "        random.shuffle(images)\n",
        "        split = int(0.8 * len(images))\n",
        "        os.makedirs(os.path.join(train_dir, cls), exist_ok=True)\n",
        "        os.makedirs(os.path.join(val_dir, cls), exist_ok=True)\n",
        "        for img in images[:split]:\n",
        "            shutil.copy(img, os.path.join(train_dir, cls, os.path.basename(img)))\n",
        "        for img in images[split:]:\n",
        "            shutil.copy(img, os.path.join(val_dir, cls, os.path.basename(img)))\n",
        "\n",
        "print(\"✅ Data split complete\")\n"
      ],
      "metadata": {
        "colab": {
          "base_uri": "https://localhost:8080/"
        },
        "id": "g9-txQn0tAcb",
        "outputId": "efeb3a74-b435-4029-e0fc-67e1330b6226"
      },
      "execution_count": null,
      "outputs": [
        {
          "output_type": "stream",
          "name": "stdout",
          "text": [
            "✅ Using data directory: dataset/dataset_blood_group\n",
            "✅ Data split complete\n"
          ]
        }
      ]
    },
    {
      "cell_type": "code",
      "source": [
        "import os, shutil, random\n",
        "\n",
        "source_root = \"dataset/dataset_blood_group\"\n",
        "train_dir = \"data/train\"\n",
        "val_dir = \"data/val\"\n",
        "\n",
        "if os.path.exists(\"data\"):\n",
        "    shutil.rmtree(\"data\")\n",
        "\n",
        "os.makedirs(train_dir)\n",
        "os.makedirs(val_dir)\n",
        "\n",
        "valid_exts = (\".jpg\", \".jpeg\", \".png\", \".bmp\", \".tiff\")\n",
        "\n",
        "# Walk recursively and find all images\n",
        "class_to_images = {}\n",
        "for class_name in os.listdir(source_root):\n",
        "    class_path = os.path.join(source_root, class_name)\n",
        "    if not os.path.isdir(class_path):\n",
        "        continue\n",
        "\n",
        "    image_files = []\n",
        "    for root, _, files in os.walk(class_path):\n",
        "        for f in files:\n",
        "            if f.lower().endswith(valid_exts):\n",
        "                image_files.append(os.path.join(root, f))\n",
        "\n",
        "    if len(image_files) == 0:\n",
        "        print(f\"⚠️ No images found for class {class_name} (checked recursively)\")\n",
        "        continue\n",
        "\n",
        "    class_to_images[class_name] = image_files\n",
        "\n",
        "# Split and copy\n",
        "for cls, images in class_to_images.items():\n",
        "    random.shuffle(images)\n",
        "    split = int(0.8 * len(images))\n",
        "    os.makedirs(os.path.join(train_dir, cls), exist_ok=True)\n",
        "    os.makedirs(os.path.join(val_dir, cls), exist_ok=True)\n",
        "    for img in images[:split]:\n",
        "        shutil.copy(img, os.path.join(train_dir, cls, os.path.basename(img)))\n",
        "    for img in images[split:]:\n",
        "        shutil.copy(img, os.path.join(val_dir, cls, os.path.basename(img)))\n",
        "\n",
        "print(f\"✅ Split complete — {len(class_to_images)} classes processed.\")\n",
        "for cls, imgs in class_to_images.items():\n",
        "    print(f\"  {cls}: {len(imgs)} images found\")\n"
      ],
      "metadata": {
        "colab": {
          "base_uri": "https://localhost:8080/"
        },
        "id": "CVl43kBItxer",
        "outputId": "1bb1ee71-7419-4f6c-9628-9372b15c9d2f"
      },
      "execution_count": null,
      "outputs": [
        {
          "output_type": "stream",
          "name": "stdout",
          "text": [
            "✅ Split complete — 8 classes processed.\n",
            "  AB+: 708 images found\n",
            "  O-: 712 images found\n",
            "  B-: 741 images found\n",
            "  A+: 565 images found\n",
            "  B+: 652 images found\n",
            "  AB-: 761 images found\n",
            "  A-: 1009 images found\n",
            "  O+: 852 images found\n"
          ]
        }
      ]
    },
    {
      "cell_type": "code",
      "source": [
        "train_transforms = transforms.Compose([\n",
        "    transforms.Resize((224,224)),\n",
        "    transforms.RandomHorizontalFlip(),\n",
        "    transforms.ToTensor(),\n",
        "    transforms.Normalize([0.485,0.456,0.406], [0.229,0.224,0.225])\n",
        "])\n",
        "\n",
        "val_transforms = transforms.Compose([\n",
        "    transforms.Resize((224,224)),\n",
        "    transforms.ToTensor(),\n",
        "    transforms.Normalize([0.485,0.456,0.406], [0.229,0.224,0.225])\n",
        "])\n",
        "\n",
        "train_data = datasets.ImageFolder(train_dir, transform=train_transforms)\n",
        "val_data = datasets.ImageFolder(val_dir, transform=val_transforms)\n",
        "\n",
        "train_loader = DataLoader(train_data, batch_size=32, shuffle=True, num_workers=2)\n",
        "val_loader = DataLoader(val_data, batch_size=32, shuffle=False, num_workers=2)\n",
        "\n",
        "class_names = train_data.classes\n",
        "print(\"Classes:\", class_names)"
      ],
      "metadata": {
        "colab": {
          "base_uri": "https://localhost:8080/"
        },
        "id": "5oNIuTXlvSms",
        "outputId": "8445802a-975b-4d54-ed9a-e31413af9f5b"
      },
      "execution_count": null,
      "outputs": [
        {
          "output_type": "stream",
          "name": "stdout",
          "text": [
            "Classes: ['A+', 'A-', 'AB+', 'AB-', 'B+', 'B-', 'O+', 'O-']\n"
          ]
        }
      ]
    },
    {
      "cell_type": "code",
      "source": [
        "# 5️⃣  MODEL: RESNET-50\n",
        "# ===============================================================\n",
        "\n",
        "device = torch.device(\"cuda\" if torch.cuda.is_available() else \"cpu\")\n",
        "model = models.resnet50(weights=\"IMAGENET1K_V2\")\n",
        "num_ftrs = model.fc.in_features\n",
        "model.fc = nn.Linear(num_ftrs, len(class_names))\n",
        "model = model.to(device)\n",
        "\n",
        "criterion = nn.CrossEntropyLoss()\n",
        "optimizer = optim.Adam(model.parameters(), lr=1e-4)\n",
        "\n",
        "print(\"✅ Model ready on\", device)"
      ],
      "metadata": {
        "colab": {
          "base_uri": "https://localhost:8080/"
        },
        "id": "Ja1ci2qqvYJa",
        "outputId": "d673d2d6-767c-40ac-cea8-394aced96682"
      },
      "execution_count": null,
      "outputs": [
        {
          "output_type": "stream",
          "name": "stdout",
          "text": [
            "Downloading: \"https://download.pytorch.org/models/resnet50-11ad3fa6.pth\" to /root/.cache/torch/hub/checkpoints/resnet50-11ad3fa6.pth\n"
          ]
        },
        {
          "output_type": "stream",
          "name": "stderr",
          "text": [
            "100%|██████████| 97.8M/97.8M [00:00<00:00, 203MB/s]\n"
          ]
        },
        {
          "output_type": "stream",
          "name": "stdout",
          "text": [
            "✅ Model ready on cuda\n"
          ]
        }
      ]
    },
    {
      "cell_type": "code",
      "source": [
        "EPOCHS = 20\n",
        "best_acc = 0.0\n",
        "\n",
        "for epoch in range(EPOCHS):\n",
        "    model.train()\n",
        "    running_loss, running_corrects = 0, 0\n",
        "    for inputs, labels in train_loader:\n",
        "        inputs, labels = inputs.to(device), labels.to(device)\n",
        "        optimizer.zero_grad()\n",
        "        outputs = model(inputs)\n",
        "        loss = criterion(outputs, labels)\n",
        "        loss.backward()\n",
        "        optimizer.step()\n",
        "\n",
        "        _, preds = torch.max(outputs, 1)\n",
        "        running_loss += loss.item() * inputs.size(0)\n",
        "        running_corrects += torch.sum(preds == labels.data)\n",
        "\n",
        "    epoch_loss = running_loss / len(train_data)\n",
        "    epoch_acc = running_corrects.double() / len(train_data)\n",
        "\n",
        "    # Validation\n",
        "    model.eval()\n",
        "    val_corrects = 0\n",
        "    with torch.no_grad():\n",
        "        for inputs, labels in val_loader:\n",
        "            inputs, labels = inputs.to(device), labels.to(device)\n",
        "            outputs = model(inputs)\n",
        "            _, preds = torch.max(outputs, 1)\n",
        "            val_corrects += torch.sum(preds == labels.data)\n",
        "    val_acc = val_corrects.double() / len(val_data)\n",
        "\n",
        "    if val_acc > best_acc:\n",
        "        best_acc = val_acc\n",
        "        torch.save(model.state_dict(), \"model_resnet50.pth\")\n",
        "\n",
        "    print(f\"Epoch {epoch+1}/{EPOCHS} | Train Acc: {epoch_acc:.4f} | Val Acc: {val_acc:.4f}\")\n",
        "\n",
        "print(\"✅ Training complete. Best Val Acc:\", best_acc)\n"
      ],
      "metadata": {
        "colab": {
          "base_uri": "https://localhost:8080/"
        },
        "id": "wN7YvIB3vbfF",
        "outputId": "0c58c561-351d-4603-ce9b-be61c1562779"
      },
      "execution_count": null,
      "outputs": [
        {
          "output_type": "stream",
          "name": "stdout",
          "text": [
            "Epoch 1/20 | Train Acc: 0.5196 | Val Acc: 0.6977\n",
            "Epoch 2/20 | Train Acc: 0.8274 | Val Acc: 0.8414\n",
            "Epoch 3/20 | Train Acc: 0.8807 | Val Acc: 0.8804\n",
            "Epoch 4/20 | Train Acc: 0.9068 | Val Acc: 0.8796\n",
            "Epoch 5/20 | Train Acc: 0.9299 | Val Acc: 0.8771\n",
            "Epoch 6/20 | Train Acc: 0.9485 | Val Acc: 0.8879\n",
            "Epoch 7/20 | Train Acc: 0.9552 | Val Acc: 0.8679\n",
            "Epoch 8/20 | Train Acc: 0.9658 | Val Acc: 0.8746\n",
            "Epoch 9/20 | Train Acc: 0.9698 | Val Acc: 0.8829\n",
            "Epoch 10/20 | Train Acc: 0.9814 | Val Acc: 0.8671\n",
            "Epoch 11/20 | Train Acc: 0.9791 | Val Acc: 0.8771\n",
            "Epoch 12/20 | Train Acc: 0.9877 | Val Acc: 0.8870\n",
            "Epoch 13/20 | Train Acc: 0.9817 | Val Acc: 0.8671\n",
            "Epoch 14/20 | Train Acc: 0.9837 | Val Acc: 0.8895\n",
            "Epoch 15/20 | Train Acc: 0.9879 | Val Acc: 0.8870\n",
            "Epoch 16/20 | Train Acc: 0.9889 | Val Acc: 0.8796\n",
            "Epoch 17/20 | Train Acc: 0.9879 | Val Acc: 0.8837\n",
            "Epoch 18/20 | Train Acc: 0.9856 | Val Acc: 0.8480\n",
            "Epoch 19/20 | Train Acc: 0.9915 | Val Acc: 0.8746\n",
            "Epoch 20/20 | Train Acc: 0.9873 | Val Acc: 0.8555\n",
            "✅ Training complete. Best Val Acc: tensor(0.8895, device='cuda:0', dtype=torch.float64)\n"
          ]
        }
      ]
    },
    {
      "cell_type": "code",
      "source": [
        "# 7️⃣  EVALUATION\n",
        "# ===============================================================\n",
        "\n",
        "y_true, y_pred = [], []\n",
        "model.eval()\n",
        "with torch.no_grad():\n",
        "    for inputs, labels in val_loader:\n",
        "        inputs, labels = inputs.to(device), labels.to(device)\n",
        "        outputs = model(inputs)\n",
        "        _, preds = torch.max(outputs, 1)\n",
        "        y_true.extend(labels.cpu().numpy())\n",
        "        y_pred.extend(preds.cpu().numpy())\n",
        "\n",
        "print(classification_report(y_true, y_pred, target_names=class_names))\n",
        "\n",
        "cm = confusion_matrix(y_true, y_pred)\n",
        "plt.figure(figsize=(8,6))\n",
        "plt.imshow(cm, cmap=\"Blues\")\n",
        "plt.title(\"Confusion Matrix\")\n",
        "plt.colorbar()\n",
        "plt.show()"
      ],
      "metadata": {
        "id": "Ax5GaaIzvoQd",
        "colab": {
          "base_uri": "https://localhost:8080/",
          "height": 805
        },
        "outputId": "ff3140f8-5d41-471d-9e7f-fc0181d83dfb"
      },
      "execution_count": null,
      "outputs": [
        {
          "output_type": "stream",
          "name": "stdout",
          "text": [
            "              precision    recall  f1-score   support\n",
            "\n",
            "          A+       0.95      0.88      0.92       113\n",
            "          A-       0.77      0.91      0.83       202\n",
            "         AB+       0.99      0.72      0.83       142\n",
            "         AB-       0.87      0.85      0.86       153\n",
            "          B+       0.86      0.78      0.82       131\n",
            "          B-       0.84      0.94      0.89       149\n",
            "          O+       0.86      0.88      0.87       171\n",
            "          O-       0.83      0.85      0.84       143\n",
            "\n",
            "    accuracy                           0.86      1204\n",
            "   macro avg       0.87      0.85      0.86      1204\n",
            "weighted avg       0.86      0.86      0.86      1204\n",
            "\n"
          ]
        },
        {
          "output_type": "display_data",
          "data": {
            "text/plain": [
              "<Figure size 800x600 with 2 Axes>"
            ],
            "image/png": "[encoded data removed]"
          },
          "metadata": {}
        }
      ]
    },
    {
      "cell_type": "code",
      "source": [
        "# 8️⃣  SAVE METADATA\n",
        "# ===============================================================\n",
        "\n",
        "metadata = {\n",
        "    \"class_names\": class_names,\n",
        "    \"image_size\": (224, 224),\n",
        "    \"model_type\": \"resnet50\"\n",
        "}\n",
        "joblib.dump(metadata, \"metadata.pkl\")\n",
        "print(\"✅ Saved model_resnet50.pth and metadata.pkl\")"
      ],
      "metadata": {
        "id": "zLtIHOwzvvFb",
        "colab": {
          "base_uri": "https://localhost:8080/"
        },
        "outputId": "0461a65a-324a-4cf5-fa37-ae72cff634a4"
      },
      "execution_count": null,
      "outputs": [
        {
          "output_type": "stream",
          "name": "stdout",
          "text": [
            "✅ Saved model_resnet50.pth and metadata.pkl\n"
          ]
        }
      ]
    },
    {
      "cell_type": "code",
      "source": [],
      "metadata": {
        "id": "s486ive84xu4"
      },
      "execution_count": null,
      "outputs": []
    }
  ],
  "metadata": {
    "accelerator": "GPU",
    "colab": {
      "gpuType": "T4",
      "provenance": []
    },
    "kernelspec": {
      "display_name": "Python 3",
      "name": "python3"
    },
    "language_info": {
      "name": "python"
    }
  },
  "nbformat": 4,
  "nbformat_minor": 0
}